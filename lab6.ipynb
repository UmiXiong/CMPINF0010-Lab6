{
 "cells": [
  {
   "cell_type": "code",
   "execution_count": null,
   "id": "2c9c25d3-4cc2-448b-9cbf-fa00891fbe1b",
   "metadata": {},
   "outputs": [],
   "source": [
    "name=input(\"please enter your name: \")\n",
    "age=int(input(\"please enter your age.\"))\n",
    "print(f\"name is {name}, age is {age}\")"
   ]
  }
 ],
 "metadata": {
  "kernelspec": {
   "display_name": "Python 3 (ipykernel)",
   "language": "python",
   "name": "python3"
  },
  "language_info": {
   "codemirror_mode": {
    "name": "ipython",
    "version": 3
   },
   "file_extension": ".py",
   "mimetype": "text/x-python",
   "name": "python",
   "nbconvert_exporter": "python",
   "pygments_lexer": "ipython3",
   "version": "3.11.5"
  }
 },
 "nbformat": 4,
 "nbformat_minor": 5
}
